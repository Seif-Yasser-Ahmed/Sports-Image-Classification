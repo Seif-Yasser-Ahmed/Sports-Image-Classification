{
 "cells": [
  {
   "cell_type": "markdown",
   "id": "6e94be7b",
   "metadata": {},
   "source": [
    "# Team Members:\n",
    "> - Seif Yasser\n",
    "> - Mohammed Yasser\n",
    "> - Omar Ahmed"
   ]
  },
  {
   "cell_type": "code",
   "execution_count": 4,
   "id": "46f06d06",
   "metadata": {},
   "outputs": [],
   "source": [
    "import torch\n",
    "import torch.nn as nn\n",
    "import torch.nn.functional as F\n",
    "import torch.optim as optim\n",
    "import torchvision.transforms as transforms\n",
    "import torchvision.datasets as datasets\n",
    "import os\n",
    "from PIL import Image\n",
    "import pandas as pd"
   ]
  },
  {
   "cell_type": "code",
   "execution_count": 13,
   "id": "bfd2a056",
   "metadata": {},
   "outputs": [],
   "source": [
    "dataset_path = '../data/sidharkal-sports-image-classification/dataset'"
   ]
  },
  {
   "cell_type": "code",
   "execution_count": 14,
   "id": "65acfcf9",
   "metadata": {},
   "outputs": [],
   "source": [
    "class Dataset(torch.utils.data.Dataset):\n",
    "    def __init__(self, csv_file,file_path, split='train', transform=None):\n",
    "        # csv_file: path to train.csv or test.csv\n",
    "        # split: which folder to use ('train' or 'test')\n",
    "        self.data_info = pd.read_csv(csv_file)\n",
    "        self.root_dir = os.path.join(file_path, split)\n",
    "        self.transform = transform\n",
    "\n",
    "    def __len__(self):\n",
    "        return len(self.data_info)\n",
    "\n",
    "    def __getitem__(self, idx):\n",
    "        # assumes first column is the filename and second is the label\n",
    "        img_name = os.path.join(self.root_dir, self.data_info.iloc[idx, 0])\n",
    "        image = Image.open(img_name).convert('RGB')\n",
    "        label = self.data_info.iloc[idx, 1]\n",
    "        if self.transform:\n",
    "            image = self.transform(image)\n",
    "        return image, label"
   ]
  },
  {
   "cell_type": "code",
   "execution_count": 16,
   "id": "8e9754bc",
   "metadata": {},
   "outputs": [],
   "source": [
    "csv_path= os.path.join(dataset_path, 'train.csv')"
   ]
  },
  {
   "cell_type": "code",
   "execution_count": 17,
   "id": "6bb638dd",
   "metadata": {},
   "outputs": [
    {
     "data": {
      "text/plain": [
       "<__main__.Dataset at 0x14d9d5103b0>"
      ]
     },
     "execution_count": 17,
     "metadata": {},
     "output_type": "execute_result"
    }
   ],
   "source": [
    "Dataset(csv_file=csv_path, file_path=dataset_path, split='train', transform=None)"
   ]
  },
  {
   "cell_type": "code",
   "execution_count": null,
   "id": "81b37a82",
   "metadata": {},
   "outputs": [],
   "source": [
    "train_dataset = Dataset(csv_file=csv_path, file_path=dataset_path, split='train', transform=None)"
   ]
  },
  {
   "cell_type": "code",
   "execution_count": 20,
   "id": "88db4336",
   "metadata": {},
   "outputs": [],
   "source": [
    "test_dataset = Dataset(csv_file=csv_path, file_path=dataset_path, split='test', transform=None)"
   ]
  },
  {
   "cell_type": "code",
   "execution_count": null,
   "id": "a737480b",
   "metadata": {},
   "outputs": [],
   "source": []
  }
 ],
 "metadata": {
  "kernelspec": {
   "display_name": "Python 3",
   "language": "python",
   "name": "python3"
  },
  "language_info": {
   "codemirror_mode": {
    "name": "ipython",
    "version": 3
   },
   "file_extension": ".py",
   "mimetype": "text/x-python",
   "name": "python",
   "nbconvert_exporter": "python",
   "pygments_lexer": "ipython3",
   "version": "3.12.4"
  }
 },
 "nbformat": 4,
 "nbformat_minor": 5
}

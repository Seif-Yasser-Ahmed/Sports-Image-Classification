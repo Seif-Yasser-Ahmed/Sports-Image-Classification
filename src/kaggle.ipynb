{
 "cells": [
  {
   "cell_type": "markdown",
   "id": "6e94be7b",
   "metadata": {},
   "source": [
    "# Team Members:\n",
    "> - Seif Yasser\n",
    "> - Mohammed Yasser\n",
    "> - Omar Ahmed"
   ]
  },
  {
   "cell_type": "code",
   "execution_count": 1,
   "id": "46f06d06",
   "metadata": {
    "execution": {
     "iopub.execute_input": "2025-04-29T00:57:46.026526Z",
     "iopub.status.busy": "2025-04-29T00:57:46.026253Z",
     "iopub.status.idle": "2025-04-29T00:58:06.411753Z",
     "shell.execute_reply": "2025-04-29T00:58:06.411164Z",
     "shell.execute_reply.started": "2025-04-29T00:57:46.026504Z"
    },
    "trusted": true
   },
   "outputs": [
    {
     "name": "stderr",
     "output_type": "stream",
     "text": [
      "2025-04-29 00:57:55.743121: E external/local_xla/xla/stream_executor/cuda/cuda_fft.cc:477] Unable to register cuFFT factory: Attempting to register factory for plugin cuFFT when one has already been registered\n",
      "WARNING: All log messages before absl::InitializeLog() is called are written to STDERR\n",
      "E0000 00:00:1745888275.949892      31 cuda_dnn.cc:8310] Unable to register cuDNN factory: Attempting to register factory for plugin cuDNN when one has already been registered\n",
      "E0000 00:00:1745888276.010845      31 cuda_blas.cc:1418] Unable to register cuBLAS factory: Attempting to register factory for plugin cuBLAS when one has already been registered\n"
     ]
    }
   ],
   "source": [
    "import os\n",
    "import math\n",
    "import torch\n",
    "import random\n",
    "import pandas as pd\n",
    "from PIL import Image\n",
    "import torch.nn as nn\n",
    "from tqdm import tqdm\n",
    "import torch.optim as optim\n",
    "import matplotlib.pyplot as plt\n",
    "import torch.nn.functional as F\n",
    "import torchvision.datasets as datasets\n",
    "import torchvision.transforms as transforms\n",
    "from torch.utils.data import DataLoader,Dataset\n",
    "from torch.utils.tensorboard import SummaryWriter\n",
    "\n"
   ]
  },
  {
   "cell_type": "code",
   "execution_count": 2,
   "id": "39afbff6",
   "metadata": {
    "execution": {
     "iopub.execute_input": "2025-04-29T00:58:06.413337Z",
     "iopub.status.busy": "2025-04-29T00:58:06.412851Z",
     "iopub.status.idle": "2025-04-29T00:58:06.416570Z",
     "shell.execute_reply": "2025-04-29T00:58:06.415989Z",
     "shell.execute_reply.started": "2025-04-29T00:58:06.413318Z"
    },
    "trusted": true
   },
   "outputs": [],
   "source": [
    "# BATCH_SIZE = 32\n",
    "# LEARNING_RATE = 0.001\n",
    "EPOCHS = 100\n",
    "NUM_CLASSES = 7\n",
    "BETAS=(0.5 , 0.999)"
   ]
  },
  {
   "cell_type": "code",
   "execution_count": null,
   "id": "ab054736",
   "metadata": {
    "execution": {
     "iopub.execute_input": "2025-04-29T00:58:06.417931Z",
     "iopub.status.busy": "2025-04-29T00:58:06.417504Z",
     "iopub.status.idle": "2025-04-29T00:58:06.447483Z",
     "shell.execute_reply": "2025-04-29T00:58:06.446820Z",
     "shell.execute_reply.started": "2025-04-29T00:58:06.417904Z"
    },
    "trusted": true
   },
   "outputs": [],
   "source": [
    "# Model_trainingmethod_optimizer_lr_scheduler_batch_size_lossfn_weightdecay\n",
    "run_names = ['Custom_Naive_adam_0.001_None_32_crossentropy_wd0'\n",
    "  , 'Custom_Naive_adam_0.001_None_32_KLDivLoss_wd0'\n",
    "  , 'Custom_Naive_adam_0.001_None_32_svm_wd0'\n",
    "\n",
    "  , 'Custom_Naive_sgd_0.001_step_32_crossentropy_wd0'\n",
    "  , 'Custom_Naive_sgd_0.001_cosine_32_crossentropy_wd0'\n",
    "\n",
    "  , 'Custom_Naive_rmsprop_0.1_None_32_crossentropy_wd0'\n",
    "  , 'Custom_Naive_rmsprop_0.01_None_32_crossentropy_wd0'\n",
    "  , 'Custom_Naive_rmsprop_0.1_None_16_crossentropy_wd0'\n",
    "  , 'Custom_Naive_rmsprop_0.01_None_16_crossentropy_wd0'\n",
    "\n",
    "  , 'Custom_Naive_adagrad_0.01_None_32_crossentropy_wd1e-6'\n",
    "  , 'Custom_Naive_adagrad_0.01_None_32_crossentropy_wd1e-7'\n",
    "\n",
    "  , 'ResNet_Transfer_Adam_0.01_None_32_crossentropy_wd0'\n",
    "  , 'ResNet_Naive_Adam_0.01_None_32_crossentropy_wd0'\n",
    "\n",
    "  , 'AlexNet_Transfer_Adam_0.01_None_32_crossentropy_wd0'\n",
    "  , 'AlexNet_Naive_Adam_0.01_None_32_crossentropy_wd0'\n",
    "  , 'GoogLeNet_Transfer_Adam_0.01_None_32_crossentropy_wd0'\n",
    "  , 'GoogLeNet_Naive_Adam_0.01_None_32_crossentropy_wd0'\n",
    "  , 'VGG16_Transfer_Adam_0.01_None_32_crossentropy_wd0'\n",
    "  , 'VGG16_Naive_Adam_0.01_None_32_crossentropy_wd0'\n",
    "  , 'VGG19_Transfer_Adam_0.01_None_32_crossentropy_wd0'\n",
    "  , 'VGG19_Naive_Adam_0.01_None_32_crossentropy_wd0']"
   ]
  },
  {
   "cell_type": "code",
   "execution_count": 4,
   "id": "bfd2a056",
   "metadata": {
    "execution": {
     "iopub.execute_input": "2025-04-29T00:58:06.449068Z",
     "iopub.status.busy": "2025-04-29T00:58:06.448839Z",
     "iopub.status.idle": "2025-04-29T00:58:06.458675Z",
     "shell.execute_reply": "2025-04-29T00:58:06.458156Z",
     "shell.execute_reply.started": "2025-04-29T00:58:06.449052Z"
    },
    "trusted": true
   },
   "outputs": [],
   "source": [
    "# dataset_path = '../data/sidharkal-sports-image-classification/dataset'\n",
    "dataset_path = \"/kaggle/input/sports-image-classification/dataset\""
   ]
  },
  {
   "cell_type": "code",
   "execution_count": 5,
   "id": "65acfcf9",
   "metadata": {
    "execution": {
     "iopub.execute_input": "2025-04-29T00:58:06.460146Z",
     "iopub.status.busy": "2025-04-29T00:58:06.459403Z",
     "iopub.status.idle": "2025-04-29T00:58:06.470596Z",
     "shell.execute_reply": "2025-04-29T00:58:06.469905Z",
     "shell.execute_reply.started": "2025-04-29T00:58:06.460129Z"
    },
    "trusted": true
   },
   "outputs": [],
   "source": [
    "class SportsDataset(Dataset):\n",
    "    def __init__(self, csv_file, file_path, split='train', transform=None):\n",
    "\n",
    "        self.data_info = pd.read_csv(csv_file)\n",
    "        self.root_dir = os.path.join(file_path, split)\n",
    "        self.transform = transform\n",
    "        self.split = split\n",
    "        # Build string → index mapping from all labels in this split\n",
    "        if split == 'train':\n",
    "            label_column = self.data_info.iloc[:, 1]  # assuming 2nd column is the label\n",
    "            classes = sorted(label_column.unique())\n",
    "            self.class_to_idx = {cls_name: idx for idx, cls_name in enumerate(classes)}\n",
    "            print(f\"Classes: {self.class_to_idx}\")\n",
    "\n",
    "    def __len__(self):\n",
    "        return len(self.data_info)\n",
    "\n",
    "    def __getitem__(self, idx):\n",
    "        # 1) Load image\n",
    "        img_name = os.path.join(self.root_dir, self.data_info.iloc[idx, 0])\n",
    "        image = Image.open(img_name).convert('RGB')\n",
    "\n",
    "        # 2) Apply transforms\n",
    "        if self.transform:\n",
    "            image = self.transform(image)\n",
    "\n",
    "        if self.split=='train':\n",
    "        # 3) String label → integer index\n",
    "            label_str = self.data_info.iloc[idx, 1]\n",
    "            label_idx = self.class_to_idx[label_str]\n",
    "\n",
    "            # 4) Return image tensor, label tensor\n",
    "            return image, torch.tensor(label_idx, dtype=torch.int8)\n",
    "        else:\n",
    "            # 3) Return image tensor, label tensor\n",
    "            return image\n"
   ]
  },
  {
   "cell_type": "code",
   "execution_count": 6,
   "id": "8e9754bc",
   "metadata": {
    "execution": {
     "iopub.execute_input": "2025-04-29T00:58:06.471543Z",
     "iopub.status.busy": "2025-04-29T00:58:06.471305Z",
     "iopub.status.idle": "2025-04-29T00:58:06.483854Z",
     "shell.execute_reply": "2025-04-29T00:58:06.483186Z",
     "shell.execute_reply.started": "2025-04-29T00:58:06.471518Z"
    },
    "trusted": true
   },
   "outputs": [],
   "source": [
    "train_csv_path= os.path.join(dataset_path, 'train.csv')\n",
    "test_csv_path= os.path.join(dataset_path, 'test.csv')"
   ]
  },
  {
   "cell_type": "code",
   "execution_count": 7,
   "id": "a737480b",
   "metadata": {
    "execution": {
     "iopub.execute_input": "2025-04-29T00:58:06.484726Z",
     "iopub.status.busy": "2025-04-29T00:58:06.484520Z",
     "iopub.status.idle": "2025-04-29T00:58:06.521122Z",
     "shell.execute_reply": "2025-04-29T00:58:06.520495Z",
     "shell.execute_reply.started": "2025-04-29T00:58:06.484707Z"
    },
    "trusted": true
   },
   "outputs": [],
   "source": [
    "data_csv = pd.read_csv(train_csv_path)"
   ]
  },
  {
   "cell_type": "code",
   "execution_count": 8,
   "id": "f51a565e",
   "metadata": {
    "execution": {
     "iopub.execute_input": "2025-04-29T00:58:06.522089Z",
     "iopub.status.busy": "2025-04-29T00:58:06.521815Z",
     "iopub.status.idle": "2025-04-29T00:58:06.533399Z",
     "shell.execute_reply": "2025-04-29T00:58:06.532705Z",
     "shell.execute_reply.started": "2025-04-29T00:58:06.522071Z"
    },
    "trusted": true
   },
   "outputs": [
    {
     "data": {
      "text/plain": [
       "7"
      ]
     },
     "execution_count": 8,
     "metadata": {},
     "output_type": "execute_result"
    }
   ],
   "source": [
    "data_csv['label'].nunique() # 7 classes"
   ]
  },
  {
   "cell_type": "code",
   "execution_count": 9,
   "id": "2556a7aa",
   "metadata": {
    "execution": {
     "iopub.execute_input": "2025-04-29T00:58:06.534421Z",
     "iopub.status.busy": "2025-04-29T00:58:06.534159Z",
     "iopub.status.idle": "2025-04-29T00:58:06.543295Z",
     "shell.execute_reply": "2025-04-29T00:58:06.542819Z",
     "shell.execute_reply.started": "2025-04-29T00:58:06.534400Z"
    },
    "trusted": true
   },
   "outputs": [],
   "source": [
    "label_counts = data_csv['label'].value_counts()\n"
   ]
  },
  {
   "cell_type": "code",
   "execution_count": 10,
   "id": "0d40be45",
   "metadata": {
    "execution": {
     "iopub.execute_input": "2025-04-29T00:58:06.545957Z",
     "iopub.status.busy": "2025-04-29T00:58:06.545588Z",
     "iopub.status.idle": "2025-04-29T00:58:06.720310Z",
     "shell.execute_reply": "2025-04-29T00:58:06.719701Z",
     "shell.execute_reply.started": "2025-04-29T00:58:06.545942Z"
    },
    "trusted": true
   },
   "outputs": [
    {
     "data": {
      "image/png": "[encoded data removed]",
      "text/plain": [
       "<Figure size 500x300 with 1 Axes>"
      ]
     },
     "metadata": {},
     "output_type": "display_data"
    }
   ],
   "source": [
    "plt.figure(figsize=(5, 3))\n",
    "plt.pie(label_counts, labels=label_counts.index, autopct='%1.1f%%', startangle=140)\n",
    "plt.title('Distribution of Labels')\n",
    "plt.axis('equal') \n",
    "plt.show()"
   ]
  },
  {
   "cell_type": "code",
   "execution_count": 11,
   "id": "c6218bb1",
   "metadata": {
    "execution": {
     "iopub.execute_input": "2025-04-29T00:58:06.721190Z",
     "iopub.status.busy": "2025-04-29T00:58:06.720976Z",
     "iopub.status.idle": "2025-04-29T00:58:06.856456Z",
     "shell.execute_reply": "2025-04-29T00:58:06.855777Z",
     "shell.execute_reply.started": "2025-04-29T00:58:06.721166Z"
    },
    "trusted": true
   },
   "outputs": [
    {
     "data": {
      "image/png": "[encoded data removed]",
      "text/plain": [
       "<Figure size 800x300 with 1 Axes>"
      ]
     },
     "metadata": {},
     "output_type": "display_data"
    }
   ],
   "source": [
    "plt.figure(figsize=(8, 3))\n",
    "plt.bar(label_counts.index, label_counts.values)\n",
    "plt.xlabel('Labels')\n",
    "plt.ylabel('Count')\n",
    "plt.title('Distribution of Labels')\n",
    "plt.show()"
   ]
  },
  {
   "cell_type": "code",
   "execution_count": 12,
   "id": "9b4e916e",
   "metadata": {
    "execution": {
     "iopub.execute_input": "2025-04-29T00:58:06.857467Z",
     "iopub.status.busy": "2025-04-29T00:58:06.857222Z",
     "iopub.status.idle": "2025-04-29T00:58:06.862006Z",
     "shell.execute_reply": "2025-04-29T00:58:06.861309Z",
     "shell.execute_reply.started": "2025-04-29T00:58:06.857452Z"
    },
    "trusted": true
   },
   "outputs": [],
   "source": [
    "transforms = transforms.Compose([\n",
    "\n",
    "    transforms.RandomResizedCrop(\n",
    "        224,\n",
    "        scale=(0.8, 1.0),\n",
    "        ratio=(0.75, 1.3333)\n",
    "    ),\n",
    "\n",
    "    transforms.RandomHorizontalFlip(),\n",
    "    transforms.RandomVerticalFlip(),\n",
    "    transforms.RandomRotation(10),\n",
    "\n",
    "    transforms.ColorJitter(\n",
    "        brightness=0.2,\n",
    "        contrast=0.2,\n",
    "        saturation=0.2,\n",
    "        hue=0.1\n",
    "    ),\n",
    "    # transforms.Resize((224, 224)),  # remove if RandomResizedCrop already gives 224×224\n",
    "    transforms.ToTensor(),\n",
    "\n",
    "    transforms.Normalize(\n",
    "        mean=[0.485, 0.456, 0.406],\n",
    "        std=[0.229, 0.224, 0.225]\n",
    "    ),\n",
    "])"
   ]
  },
  {
   "cell_type": "code",
   "execution_count": 13,
   "id": "7c4a2249",
   "metadata": {
    "execution": {
     "iopub.execute_input": "2025-04-29T00:58:06.863371Z",
     "iopub.status.busy": "2025-04-29T00:58:06.862745Z",
     "iopub.status.idle": "2025-04-29T00:58:06.875185Z",
     "shell.execute_reply": "2025-04-29T00:58:06.874619Z",
     "shell.execute_reply.started": "2025-04-29T00:58:06.863349Z"
    },
    "trusted": true
   },
   "outputs": [],
   "source": [
    "# train_dataset = SportsDataset(csv_file=train_csv_path, file_path=dataset_path, split='train', transform=transforms)\n",
    "# train_loader = DataLoader(train_dataset, batch_size=32, shuffle=True)"
   ]
  },
  {
   "cell_type": "code",
   "execution_count": 14,
   "id": "c87b44a6",
   "metadata": {
    "execution": {
     "iopub.execute_input": "2025-04-29T00:58:06.876199Z",
     "iopub.status.busy": "2025-04-29T00:58:06.875881Z",
     "iopub.status.idle": "2025-04-29T00:58:06.885919Z",
     "shell.execute_reply": "2025-04-29T00:58:06.885420Z",
     "shell.execute_reply.started": "2025-04-29T00:58:06.876178Z"
    },
    "trusted": true
   },
   "outputs": [],
   "source": [
    "# test_dataset = SportsDataset(csv_file=test_csv_path, file_path=dataset_path, split='test', transform=transforms)\n",
    "\n",
    "# val_loader = DataLoader(test_dataset, batch_size=32, shuffle=True)"
   ]
  },
  {
   "cell_type": "code",
   "execution_count": 15,
   "id": "41029f52",
   "metadata": {
    "execution": {
     "iopub.execute_input": "2025-04-29T00:58:06.886840Z",
     "iopub.status.busy": "2025-04-29T00:58:06.886633Z",
     "iopub.status.idle": "2025-04-29T00:58:06.898035Z",
     "shell.execute_reply": "2025-04-29T00:58:06.897515Z",
     "shell.execute_reply.started": "2025-04-29T00:58:06.886795Z"
    },
    "trusted": true
   },
   "outputs": [],
   "source": [
    "def show_tensor_images(image_tensor):\n",
    "    # Detach tensor and ensure it's on CPU, then take the first image if batch exists\n",
    "    img = image_tensor.detach().cpu()\n",
    "    \n",
    "    # If the image has a single channel, treat it as grayscale\n",
    "    if img.dim() == 2 or img.shape[0] == 1:\n",
    "        plt.imshow(img.squeeze(), cmap='gray')\n",
    "    else:\n",
    "        # If image is normalized (using the usual ImageNet means and stds), de-normalize it\n",
    "        mean = torch.tensor([0.485, 0.456, 0.406]).view(3, 1, 1)\n",
    "        std = torch.tensor([0.229, 0.224, 0.225]).view(3, 1, 1)\n",
    "        img = img * std + mean\n",
    "        img = img.clamp(0, 1)\n",
    "        # Convert tensor (C, H, W) → (H, W, C) for RGB plotting\n",
    "        plt.imshow(img.permute(1, 2, 0))\n",
    "    \n",
    "    plt.axis(\"off\")\n",
    "    plt.show()"
   ]
  },
  {
   "cell_type": "code",
   "execution_count": 16,
   "id": "5d6f52df",
   "metadata": {
    "execution": {
     "iopub.execute_input": "2025-04-29T00:58:06.898930Z",
     "iopub.status.busy": "2025-04-29T00:58:06.898760Z",
     "iopub.status.idle": "2025-04-29T00:58:06.908326Z",
     "shell.execute_reply": "2025-04-29T00:58:06.907684Z",
     "shell.execute_reply.started": "2025-04-29T00:58:06.898917Z"
    },
    "trusted": true
   },
   "outputs": [],
   "source": [
    "# show_tensor_images(train_loader.dataset[5][0])"
   ]
  },
  {
   "cell_type": "code",
   "execution_count": 17,
   "id": "64e4e597",
   "metadata": {
    "execution": {
     "iopub.execute_input": "2025-04-29T00:58:06.909373Z",
     "iopub.status.busy": "2025-04-29T00:58:06.909199Z",
     "iopub.status.idle": "2025-04-29T00:58:06.915479Z",
     "shell.execute_reply": "2025-04-29T00:58:06.914798Z",
     "shell.execute_reply.started": "2025-04-29T00:58:06.909353Z"
    },
    "trusted": true
   },
   "outputs": [],
   "source": [
    "class Block(nn.Module):\n",
    "    def __init__(self,in_channels,out_channels,act='relu',drop=False,norm=True):\n",
    "        super().__init__()\n",
    "        self.drop=drop\n",
    "        self.norm=norm\n",
    "        self.dropout=nn.Dropout(0.5)\n",
    "        if self.norm==True:\n",
    "            self.block=nn.Sequential(\n",
    "                nn.Conv2d(in_channels,out_channels,4,2,1),\n",
    "                nn.BatchNorm2d(out_channels),\n",
    "                nn.ReLU() if act=='relu' else nn.LeakyReLU(0.2),\n",
    "            )\n",
    "        else:\n",
    "            self.block=nn.Sequential(\n",
    "                nn.Conv2d(in_channels,out_channels,4,2,1),\n",
    "                nn.ReLU() if act=='relu' else nn.LeakyReLU(0.2),\n",
    "            )\n",
    "    def forward(self,x):\n",
    "        x=self.block(x)\n",
    "        return self.dropout(x) if self.drop else x"
   ]
  },
  {
   "cell_type": "code",
   "execution_count": 18,
   "id": "0120f6c5",
   "metadata": {
    "execution": {
     "iopub.execute_input": "2025-04-29T00:58:06.916251Z",
     "iopub.status.busy": "2025-04-29T00:58:06.916090Z",
     "iopub.status.idle": "2025-04-29T00:58:06.927755Z",
     "shell.execute_reply": "2025-04-29T00:58:06.927196Z",
     "shell.execute_reply.started": "2025-04-29T00:58:06.916240Z"
    },
    "trusted": true
   },
   "outputs": [],
   "source": [
    "def calc_ouput_size(input_size, kernel_size, stride, padding):\n",
    "    return (input_size - kernel_size + 2 * padding) // stride + 1"
   ]
  },
  {
   "cell_type": "code",
   "execution_count": 19,
   "id": "479cf4d9",
   "metadata": {
    "execution": {
     "iopub.execute_input": "2025-04-29T00:58:06.928582Z",
     "iopub.status.busy": "2025-04-29T00:58:06.928324Z",
     "iopub.status.idle": "2025-04-29T00:58:06.939064Z",
     "shell.execute_reply": "2025-04-29T00:58:06.938345Z",
     "shell.execute_reply.started": "2025-04-29T00:58:06.928559Z"
    },
    "trusted": true
   },
   "outputs": [
    {
     "data": {
      "text/plain": [
       "112"
      ]
     },
     "execution_count": 19,
     "metadata": {},
     "output_type": "execute_result"
    }
   ],
   "source": [
    "calc_ouput_size(224, 4, 2, 1)"
   ]
  },
  {
   "cell_type": "code",
   "execution_count": 20,
   "id": "9087fca6",
   "metadata": {
    "execution": {
     "iopub.execute_input": "2025-04-29T00:58:06.939979Z",
     "iopub.status.busy": "2025-04-29T00:58:06.939827Z",
     "iopub.status.idle": "2025-04-29T00:58:06.951660Z",
     "shell.execute_reply": "2025-04-29T00:58:06.951088Z",
     "shell.execute_reply.started": "2025-04-29T00:58:06.939967Z"
    },
    "trusted": true
   },
   "outputs": [],
   "source": [
    "class CustomCNN(nn.Module):\n",
    "    def __init__(self, num_classes=7, input_channels=3, input_size=(224, 224),dropout=0.5,hidden_dim=64):\n",
    "        super(CustomCNN, self).__init__()\n",
    "        self.conv1 = Block(input_channels, hidden_dim, act='relu', drop=False, norm=False) # 3x224x224 -> 64x112x112\n",
    "        self.maxpool1 = nn.MaxPool2d(kernel_size=2, stride=2) # 64x112x112 -> 64x56x56\n",
    "        self.conv2 = Block(hidden_dim, hidden_dim, act='relu', drop=False, norm=False) # 64x56x56 -> 64x28x28\n",
    "        self.maxpool2 = nn.MaxPool2d(kernel_size=2, stride=2) # 64x28x28 -> 64x14x14\n",
    "        self.conv3 = Block(hidden_dim, hidden_dim*2, act='relu', drop=False, norm=False)\n",
    "        self.maxpool3 = nn.MaxPool2d(kernel_size=2, stride=2) # 64x14x14 -> 128x7x17\n",
    "        self.conv4 = Block(hidden_dim*2, hidden_dim*2, act='relu', drop=False, norm=False) # 128x7x7 -> 128x3x3\n",
    "        self.maxpool4 = nn.MaxPool2d(kernel_size=2, stride=2) # 128x7x7 -> 128x3x3\n",
    "        self.fc1 = nn.Linear(128, 128)  #  128x3x3 -> 128\n",
    "        self.relu=nn.ReLU()\n",
    "        self.dropout = nn.Dropout(dropout)\n",
    "        self.fc2 = nn.Linear(128, num_classes) # 128 -> num_classes\n",
    "        self.sigmoid = nn.Sigmoid()\n",
    "\n",
    "    def forward(self, x):\n",
    "        x = self.conv1(x)\n",
    "        x = self.maxpool1(x)\n",
    "        x = self.conv2(x)\n",
    "        x = self.maxpool2(x)\n",
    "        x = self.conv3(x)\n",
    "        x = self.maxpool3(x)\n",
    "        x = self.conv4(x)\n",
    "        x = x.view(x.size(0), -1)\n",
    "        x = self.fc1(x)\n",
    "        x = self.relu(x)\n",
    "        x = self.dropout(x)\n",
    "        x = self.fc2(x)\n",
    "\n",
    "        return x"
   ]
  },
  {
   "cell_type": "code",
   "execution_count": null,
   "id": "5f6b3c7c",
   "metadata": {
    "trusted": true
   },
   "outputs": [],
   "source": []
  },
  {
   "cell_type": "code",
   "execution_count": 21,
   "id": "c8d9314c",
   "metadata": {
    "execution": {
     "iopub.execute_input": "2025-04-29T00:58:06.952644Z",
     "iopub.status.busy": "2025-04-29T00:58:06.952398Z",
     "iopub.status.idle": "2025-04-29T00:58:06.967037Z",
     "shell.execute_reply": "2025-04-29T00:58:06.966399Z",
     "shell.execute_reply.started": "2025-04-29T00:58:06.952616Z"
    },
    "trusted": true
   },
   "outputs": [],
   "source": [
    "def xavier_init(m):\n",
    "    if isinstance(m, nn.Linear) or isinstance(m, nn.Conv2d):\n",
    "        nn.init.xavier_uniform_(m.weight)\n",
    "        if m.bias is not None:\n",
    "            nn.init.constant_(m.bias, 0)\n",
    "            \n",
    "\n",
    "def kaiming_init(m):\n",
    "    if isinstance(m, nn.Conv2d):\n",
    "        nn.init.kaiming_normal_(m.weight, mode='fan_out', nonlinearity='relu')\n",
    "        if m.bias is not None:\n",
    "            nn.init.constant_(m.bias, 0)\n",
    "    elif isinstance(m, nn.Linear):\n",
    "        nn.init.kaiming_normal_(m.weight, mode='fan_in', nonlinearity='relu')\n",
    "        if m.bias is not None:\n",
    "            nn.init.constant_(m.bias, 0)\n",
    "    elif isinstance(m, nn.BatchNorm2d):\n",
    "        nn.init.constant_(m.weight, 1)\n",
    "        nn.init.constant_(m.bias, 0)\n",
    "\n",
    "def msra_init(m):\n",
    "    # MSRA is another name for kaiming initialization\n",
    "    # but often focuses on fan_in mode specifically\n",
    "    if isinstance(m, nn.Conv2d) or isinstance(m, nn.Linear):\n",
    "        nn.init.kaiming_normal_(m.weight, mode='fan_in', nonlinearity='relu')\n",
    "        if m.bias is not None:\n",
    "            nn.init.constant_(m.bias, 0)\n",
    "    elif isinstance(m, nn.BatchNorm2d):\n",
    "        nn.init.constant_(m.weight, 1)\n",
    "        nn.init.constant_(m.bias, 0)\n",
    "\n",
    "def custom_init(m):\n",
    "    if isinstance(m, nn.Conv2d) or isinstance(m, nn.ConvTranspose2d) or isinstance(m, nn.Conv3d) or isinstance(m, nn.ConvTranspose3d):\n",
    "        torch.nn.init.normal_(m.weight, 0.0, 0.02)\n",
    "    if isinstance(m, nn.BatchNorm2d) or isinstance(m, nn.BatchNorm3d):\n",
    "        torch.nn.init.normal_(m.weight, 0.0, 0.02)\n",
    "        torch.nn.init.constant_(m.bias, 0)"
   ]
  },
  {
   "cell_type": "code",
   "execution_count": 22,
   "id": "de2499ee",
   "metadata": {
    "execution": {
     "iopub.execute_input": "2025-04-29T00:58:06.968088Z",
     "iopub.status.busy": "2025-04-29T00:58:06.967879Z",
     "iopub.status.idle": "2025-04-29T00:58:06.979890Z",
     "shell.execute_reply": "2025-04-29T00:58:06.979297Z",
     "shell.execute_reply.started": "2025-04-29T00:58:06.968065Z"
    },
    "trusted": true
   },
   "outputs": [],
   "source": [
    "def init_weights(model, init_type='xavier'):\n",
    "    if init_type == 'xavier':\n",
    "        model.apply(xavier_init)\n",
    "    elif init_type == 'kaiming':\n",
    "        model.apply(kaiming_init)\n",
    "    elif init_type == 'msra':\n",
    "        model.apply(msra_init)\n",
    "    elif init_type == 'custom':\n",
    "        model.apply(custom_init)\n",
    "    else:\n",
    "        raise ValueError(f\"Unknown initialization type: {init_type}\")"
   ]
  },
  {
   "cell_type": "code",
   "execution_count": 23,
   "id": "73cfe2f1",
   "metadata": {
    "execution": {
     "iopub.execute_input": "2025-04-29T00:58:06.980723Z",
     "iopub.status.busy": "2025-04-29T00:58:06.980523Z",
     "iopub.status.idle": "2025-04-29T00:58:07.068132Z",
     "shell.execute_reply": "2025-04-29T00:58:07.067428Z",
     "shell.execute_reply.started": "2025-04-29T00:58:06.980703Z"
    },
    "trusted": true
   },
   "outputs": [],
   "source": [
    "device = torch.device(\"cuda\" if torch.cuda.is_available() else \"cpu\")"
   ]
  },
  {
   "cell_type": "code",
   "execution_count": 24,
   "id": "9d8c9745",
   "metadata": {
    "execution": {
     "iopub.execute_input": "2025-04-29T00:58:07.069087Z",
     "iopub.status.busy": "2025-04-29T00:58:07.068882Z",
     "iopub.status.idle": "2025-04-29T00:58:07.076737Z",
     "shell.execute_reply": "2025-04-29T00:58:07.076183Z",
     "shell.execute_reply.started": "2025-04-29T00:58:07.069072Z"
    },
    "trusted": true
   },
   "outputs": [],
   "source": [
    "class EarlyStopping:\n",
    "    def __init__(self, patience=5, delta=0):\n",
    "        self.patience = patience\n",
    "        self.delta = delta\n",
    "        self.counter = 0\n",
    "        self.best_score = None\n",
    "        self.early_stop = False\n",
    "        self.val_loss_min = float('inf')\n",
    "    \n",
    "    def __call__(self, val_loss, model, path='checkpoint.pt'):\n",
    "        score = -val_loss\n",
    "        \n",
    "        if self.best_score is None:\n",
    "            self.best_score = score\n",
    "            self.save_checkpoint(val_loss, model, path)\n",
    "        elif score < self.best_score + self.delta:\n",
    "            self.counter += 1\n",
    "            print(f'EarlyStopping counter: {self.counter} out of {self.patience}')\n",
    "            if self.counter >= self.patience:\n",
    "                self.early_stop = True\n",
    "        else:\n",
    "            self.best_score = score\n",
    "            self.save_checkpoint(val_loss, model, path)\n",
    "            self.counter = 0\n",
    "            \n",
    "    def save_checkpoint(self, val_loss, model, path):\n",
    "        \"\"\"Save model when validation loss decreases.\"\"\"\n",
    "        print(f'Validation loss decreased ({self.val_loss_min:.6f} --> {val_loss:.6f}). Saving model...')\n",
    "        torch.save(model.state_dict(), path)\n",
    "        self.val_loss_min = val_loss\n"
   ]
  },
  {
   "cell_type": "code",
   "execution_count": 25,
   "id": "0881faff",
   "metadata": {
    "execution": {
     "iopub.execute_input": "2025-04-29T00:58:07.077652Z",
     "iopub.status.busy": "2025-04-29T00:58:07.077363Z",
     "iopub.status.idle": "2025-04-29T00:58:07.091004Z",
     "shell.execute_reply": "2025-04-29T00:58:07.090429Z",
     "shell.execute_reply.started": "2025-04-29T00:58:07.077636Z"
    },
    "trusted": true
   },
   "outputs": [],
   "source": [
    "def initialize_model(model_class=CustomCNN, num_classes=NUM_CLASSES, input_channels=3, input_size=(224, 224), dropout=0.5, hidden_dim=64,pretrained_weights=None, weight_init_method='custom'):\n",
    "    # classifier=CustomCNN(num_classes=NUM_CLASSES, input_channels=3, input_size=(224, 224),dropout=0.5,hidden_dim=64)\n",
    "    model = model_class(num_classes=num_classes, input_channels=input_channels, input_size=input_size, dropout=dropout, hidden_dim=hidden_dim)\n",
    "    if pretrained_weights:\n",
    "        model.load_state_dict(torch.load(pretrained_weights))\n",
    "    else:\n",
    "        init_weights(model, init_type=weight_init_method)\n",
    "    model.to(device)\n",
    "    return model"
   ]
  },
  {
   "cell_type": "code",
   "execution_count": 26,
   "id": "758b4ef2",
   "metadata": {
    "execution": {
     "iopub.execute_input": "2025-04-29T00:58:07.091851Z",
     "iopub.status.busy": "2025-04-29T00:58:07.091677Z",
     "iopub.status.idle": "2025-04-29T00:58:07.101525Z",
     "shell.execute_reply": "2025-04-29T00:58:07.100789Z",
     "shell.execute_reply.started": "2025-04-29T00:58:07.091838Z"
    },
    "trusted": true
   },
   "outputs": [],
   "source": [
    "def initialize_optimizer(model,optimizer, learning_rate=0.001, betas=(0.9, 0.999), weight_decay=0.0001):\n",
    "    if optimizer == 'adam':\n",
    "        optimizer = optim.Adam(model.parameters(), lr=learning_rate, betas=betas)\n",
    "    elif optimizer == 'sgd':\n",
    "        optimizer = optim.SGD(model.parameters(), lr=learning_rate, momentum=0.9)\n",
    "    elif optimizer==\"rmsprop\":\n",
    "        optimizer = optim.RMSprop(model.parameters(), lr=learning_rate, alpha=0.99, eps=1e-08, weight_decay=weight_decay, centered=False)\n",
    "    elif optimizer == 'adagrad':\n",
    "        optimizer = optim.Adagrad(model.parameters(), lr=learning_rate, lr_decay=0, weight_decay=weight_decay, initial_accumulator_value=0, eps=1e-10)\n",
    "    else:\n",
    "        raise ValueError(f\"Unknown optimizer: {optimizer}\")\n",
    "    return optimizer"
   ]
  },
  {
   "cell_type": "code",
   "execution_count": 27,
   "id": "3b409f34",
   "metadata": {
    "execution": {
     "iopub.execute_input": "2025-04-29T00:58:07.102410Z",
     "iopub.status.busy": "2025-04-29T00:58:07.102188Z",
     "iopub.status.idle": "2025-04-29T00:58:07.113463Z",
     "shell.execute_reply": "2025-04-29T00:58:07.112849Z",
     "shell.execute_reply.started": "2025-04-29T00:58:07.102374Z"
    },
    "trusted": true
   },
   "outputs": [],
   "source": [
    "def initialize_loss_function(loss_fn='crossentropy'):\n",
    "    if loss_fn == 'crossentropy':\n",
    "        criterion = nn.CrossEntropyLoss()\n",
    "    elif loss_fn == 'KLDivLoss':\n",
    "        criterion = nn.KLDivLoss(reduction='batchmean')\n",
    "    elif loss_fn == 'svm':\n",
    "        criterion=nn.MultiMarginLoss(margin=1.0)\n",
    "    else:\n",
    "        raise ValueError(f\"Unknown loss function: {loss_fn}\")\n",
    "    criterion.to(device)\n",
    "    return criterion"
   ]
  },
  {
   "cell_type": "code",
   "execution_count": 28,
   "id": "8f141b6a",
   "metadata": {
    "execution": {
     "iopub.execute_input": "2025-04-29T00:58:07.117875Z",
     "iopub.status.busy": "2025-04-29T00:58:07.117292Z",
     "iopub.status.idle": "2025-04-29T00:58:07.123860Z",
     "shell.execute_reply": "2025-04-29T00:58:07.123117Z",
     "shell.execute_reply.started": "2025-04-29T00:58:07.117858Z"
    },
    "trusted": true
   },
   "outputs": [],
   "source": [
    "def initialize_lr_scheduler(optimizer, scheduler_type='step', step_size=10, gamma=0.1):\n",
    "    if scheduler_type == 'step':\n",
    "        scheduler = optim.lr_scheduler.StepLR(optimizer, step_size=step_size, gamma=gamma)\n",
    "\n",
    "    elif scheduler_type == 'cosine':\n",
    "        scheduler = optim.lr_scheduler.CosineAnnealingLR(optimizer, T_max=EPOCHS, eta_min=0)\n",
    "    elif scheduler_type=='linear':\n",
    "        scheduler = optim.lr_scheduler.LinearLR(optimizer, start_factor=1.0, end_factor=0.1, total_iters=EPOCHS)\n",
    "    else:\n",
    "        raise ValueError(f\"Unknown scheduler type: {scheduler_type}\")\n",
    "    return scheduler"
   ]
  },
  {
   "cell_type": "code",
   "execution_count": 29,
   "id": "9a229403",
   "metadata": {
    "execution": {
     "iopub.execute_input": "2025-04-29T00:58:07.124705Z",
     "iopub.status.busy": "2025-04-29T00:58:07.124497Z",
     "iopub.status.idle": "2025-04-29T00:58:07.133946Z",
     "shell.execute_reply": "2025-04-29T00:58:07.133262Z",
     "shell.execute_reply.started": "2025-04-29T00:58:07.124680Z"
    },
    "trusted": true
   },
   "outputs": [],
   "source": [
    "def initialize_tensorboard_writer(log_directory, run_name):\n",
    "    # Create a directory for the logs if it doesn't exist\n",
    "    os.makedirs(log_directory, exist_ok=True)\n",
    "    \n",
    "    # Initialize the SummaryWriter\n",
    "    writer = SummaryWriter(log_dir=os.path.join(log_directory, run_name))\n",
    "    return writer"
   ]
  },
  {
   "cell_type": "code",
   "execution_count": 30,
   "id": "b5cf19d2",
   "metadata": {
    "execution": {
     "iopub.execute_input": "2025-04-29T00:58:07.134869Z",
     "iopub.status.busy": "2025-04-29T00:58:07.134656Z",
     "iopub.status.idle": "2025-04-29T00:58:07.146339Z",
     "shell.execute_reply": "2025-04-29T00:58:07.145850Z",
     "shell.execute_reply.started": "2025-04-29T00:58:07.134845Z"
    },
    "trusted": true
   },
   "outputs": [],
   "source": [
    "def initialize_early_stopping(patience=5, delta=0):\n",
    "    early_stopping = EarlyStopping(patience=patience, delta=delta)\n",
    "    return early_stopping"
   ]
  },
  {
   "cell_type": "code",
   "execution_count": 31,
   "id": "8aa7ed41",
   "metadata": {
    "execution": {
     "iopub.execute_input": "2025-04-29T00:58:07.147353Z",
     "iopub.status.busy": "2025-04-29T00:58:07.147128Z",
     "iopub.status.idle": "2025-04-29T00:58:07.157621Z",
     "shell.execute_reply": "2025-04-29T00:58:07.156886Z",
     "shell.execute_reply.started": "2025-04-29T00:58:07.147324Z"
    },
    "trusted": true
   },
   "outputs": [],
   "source": [
    "def initialize_data_loaders(train_csv_path, test_csv_path, dataset_path, transforms):\n",
    "    train_dataset = SportsDataset(csv_file=train_csv_path, file_path=dataset_path, split='train', transform=transforms)\n",
    "    train_loader = DataLoader(train_dataset, batch_size=32, shuffle=True)\n",
    "    test_dataset = SportsDataset(csv_file=test_csv_path, file_path=dataset_path, split='test', transform=transforms)\n",
    "\n",
    "    val_loader = DataLoader(test_dataset, batch_size=32, shuffle=True)\n",
    "    return train_loader, val_loader"
   ]
  },
  {
   "cell_type": "code",
   "execution_count": 32,
   "id": "a77f59bb",
   "metadata": {
    "execution": {
     "iopub.execute_input": "2025-04-29T00:58:07.158525Z",
     "iopub.status.busy": "2025-04-29T00:58:07.158305Z",
     "iopub.status.idle": "2025-04-29T00:58:07.164407Z",
     "shell.execute_reply": "2025-04-29T00:58:07.163670Z",
     "shell.execute_reply.started": "2025-04-29T00:58:07.158512Z"
    },
    "trusted": true
   },
   "outputs": [],
   "source": [
    "def draw_save_graph(model, name='custom_arch_graph'):\n",
    "    # Create the directory if it doesn't exist\n",
    "    graph_dir = 'models/graphs'\n",
    "    os.makedirs(graph_dir, exist_ok=True)\n",
    "    \n",
    "    # Create full path for the graph\n",
    "    path = os.path.join(graph_dir, name)\n",
    "    \n",
    "    # Create a graph of the model\n",
    "    sample_input = torch.randn(1, 3, 224, 224).to(device)\n",
    "    dot = make_dot(model(sample_input), params=dict(list(model.named_parameters())))\n",
    "    \n",
    "    # Save the graph as a PNG file\n",
    "    dot.format = 'png'\n",
    "    dot.render(filename=path, cleanup=True)\n",
    "    print(f\"Graph saved to {path}.png\")"
   ]
  },
  {
   "cell_type": "code",
   "execution_count": null,
   "id": "9564265c",
   "metadata": {
    "execution": {
     "iopub.execute_input": "2025-04-29T00:58:07.165429Z",
     "iopub.status.busy": "2025-04-29T00:58:07.165158Z",
     "iopub.status.idle": "2025-04-29T00:58:07.175290Z",
     "shell.execute_reply": "2025-04-29T00:58:07.174743Z",
     "shell.execute_reply.started": "2025-04-29T00:58:07.165405Z"
    },
    "trusted": true
   },
   "outputs": [],
   "source": [
    "def initialize_all(run_name='custom_arch_graph',model_class=CustomCNN, num_classes=NUM_CLASSES, input_channels=3, input_size=(224, 224), dropout=0.5, hidden_dim=64,betas=BETAS, optimizer='adam', learning_rate=0.001, weight_decay=0.0001,loss_fn='crossentropy',scheduler_type=None,log_directory='logs'):\n",
    "    train_loader, val_loader=initialize_data_loaders(train_csv_path, test_csv_path, dataset_path, transforms)\n",
    "    criterion=initialize_loss_function(loss_fn=loss_fn)\n",
    "    model=initialize_model(model_class, num_classes, input_channels, input_size, dropout, hidden_dim)\n",
    "    # draw_save_graph(model,name=run_name)\n",
    "    optimizer=initialize_optimizer(model,optimizer,learning_rate=learning_rate,betas=betas,weight_decay=weight_decay)\n",
    "    if scheduler_type:\n",
    "        scheduler=initialize_lr_scheduler(optimizer, scheduler_type=scheduler_type, step_size=25, gamma=0.1)\n",
    "    else:\n",
    "        scheduler=None\n",
    "    writer=initialize_tensorboard_writer(log_directory, run_name)\n",
    "    early_stopping=initialize_early_stopping()\n",
    "    \n",
    "    return model, optimizer, criterion, scheduler, writer, early_stopping, train_loader, val_loader\n",
    "    # initialize_checkpoint_manager()\n",
    "    # initialize_logger()"
   ]
  },
  {
   "cell_type": "code",
   "execution_count": 34,
   "id": "fefae987",
   "metadata": {
    "execution": {
     "iopub.execute_input": "2025-04-29T00:58:07.176284Z",
     "iopub.status.busy": "2025-04-29T00:58:07.176058Z",
     "iopub.status.idle": "2025-04-29T00:58:07.189855Z",
     "shell.execute_reply": "2025-04-29T00:58:07.189311Z",
     "shell.execute_reply.started": "2025-04-29T00:58:07.176265Z"
    },
    "trusted": true
   },
   "outputs": [],
   "source": [
    "def save_model(run_name,model,epoch,optimizer,train_loss,batch_size=32,lr=0.01,num_classes=7):\n",
    "    batch_size=int(run_name.split('_')[5])\n",
    "    lr=float(run_name.split('_')[3])\n",
    "    checkpoint_path = f'models/checkpoints/model{run_name}_epoch_{epoch+1}.pth'\n",
    "    os.makedirs(os.path.dirname(checkpoint_path), exist_ok=True)\n",
    "    torch.save({\n",
    "        'epoch': epoch,\n",
    "        'model_state_dict': model.state_dict(),\n",
    "        'optimizer_state_dict': optimizer.state_dict(),\n",
    "        'hyperparameters': {\n",
    "            'BATCH_SIZE': batch_size,\n",
    "            'LEARNING_RATE': lr,\n",
    "            # 'BETAS': betas,\n",
    "            'NUM_CLASSES': num_classes\n",
    "        },\n",
    "        'loss': train_loss,\n",
    "    }, checkpoint_path)\n",
    "    print(f\"Checkpoint saved at epoch {epoch+1}\")"
   ]
  },
  {
   "cell_type": "code",
   "execution_count": 35,
   "id": "5916f145",
   "metadata": {
    "execution": {
     "iopub.execute_input": "2025-04-29T00:58:07.190833Z",
     "iopub.status.busy": "2025-04-29T00:58:07.190614Z",
     "iopub.status.idle": "2025-04-29T00:58:07.200488Z",
     "shell.execute_reply": "2025-04-29T00:58:07.199834Z",
     "shell.execute_reply.started": "2025-04-29T00:58:07.190820Z"
    },
    "trusted": true
   },
   "outputs": [
    {
     "data": {
      "text/plain": [
       "[0]"
      ]
     },
     "execution_count": 35,
     "metadata": {},
     "output_type": "execute_result"
    }
   ],
   "source": [
    "list(range(0,1))"
   ]
  },
  {
   "cell_type": "code",
   "execution_count": 36,
   "id": "abe77d7a",
   "metadata": {
    "execution": {
     "iopub.execute_input": "2025-04-29T00:58:07.201460Z",
     "iopub.status.busy": "2025-04-29T00:58:07.201211Z",
     "iopub.status.idle": "2025-04-29T00:58:07.212609Z",
     "shell.execute_reply": "2025-04-29T00:58:07.212066Z",
     "shell.execute_reply.started": "2025-04-29T00:58:07.201440Z"
    },
    "trusted": true
   },
   "outputs": [],
   "source": [
    "def plot_loss_acc(run_name,epoch,losses, accuracies):\n",
    "    print(losses)\n",
    "    print(epoch+1)\n",
    "    # Plot and save the training curves\n",
    "    os.makedirs('logs/plots', exist_ok=True)\n",
    "    \n",
    "    plt.figure(figsize=(12, 5))\n",
    "    \n",
    "    plt.subplot(1, 2, 1)\n",
    "    plt.plot(range(1, epoch+2), losses)\n",
    "    plt.title('Training Loss')\n",
    "    plt.xlabel('Epochs')\n",
    "    plt.ylabel('Loss')\n",
    "    \n",
    "    plt.subplot(1, 2, 2)\n",
    "    plt.plot(range(1, epoch+2), accuracies)\n",
    "    plt.title('Training Accuracy')\n",
    "    plt.xlabel('Epochs')\n",
    "    plt.ylabel('Accuracy')\n",
    "    \n",
    "    plt.tight_layout()\n",
    "    plt.savefig(f'logs/plots/training_curves_{run_name}_{epoch+1}.png')\n",
    "    plt.show()"
   ]
  },
  {
   "cell_type": "code",
   "execution_count": null,
   "id": "f9dca711",
   "metadata": {
    "execution": {
     "iopub.execute_input": "2025-04-29T00:58:07.213648Z",
     "iopub.status.busy": "2025-04-29T00:58:07.213339Z",
     "iopub.status.idle": "2025-04-29T00:58:07.226121Z",
     "shell.execute_reply": "2025-04-29T00:58:07.225555Z",
     "shell.execute_reply.started": "2025-04-29T00:58:07.213633Z"
    },
    "trusted": true
   },
   "outputs": [],
   "source": [
    "def training_loop(run_name, num_epochs, model, train_loader, optimizer, criterion, device, writer, scheduler=None):\n",
    "    losses = []\n",
    "    accuracies = []\n",
    "    os.makedirs('logs/plots', exist_ok=True)\n",
    "    \n",
    "    for epoch in range(num_epochs):\n",
    "        # ----- Training -----\n",
    "        model.train()\n",
    "        running_loss = 0.0\n",
    "        correct_train = 0\n",
    "        total_train = 0\n",
    "\n",
    "        prog_bar = tqdm(train_loader, desc=f\"Epoch {epoch+1}/{num_epochs}\", leave=False)\n",
    "        for images, labels in prog_bar:\n",
    "            images = images.to(device)\n",
    "            labels = labels.to(device).long()\n",
    "            \n",
    "            optimizer.zero_grad()\n",
    "            outputs = model(images)\n",
    "            if isinstance(criterion, nn.KLDivLoss):\n",
    "                outputs = outputs.float()\n",
    "                input_log_probs = F.log_softmax(outputs, dim=1)  # apply over classes\n",
    "                # One-hot encode labels\n",
    "                target_probs = F.one_hot(labels, num_classes=7).float()\n",
    "                loss = criterion(input_log_probs, target_probs)\n",
    "            else:\n",
    "                loss = criterion(outputs, labels)\n",
    "            loss.backward()\n",
    "            optimizer.step()\n",
    "            \n",
    "            running_loss += loss.item() * images.size(0)\n",
    "            _, predicted = outputs.max(1)\n",
    "            correct_train += (predicted == labels).sum().item()\n",
    "            total_train += labels.size(0)\n",
    "            prog_bar.set_postfix({'loss': loss.item()})\n",
    "            \n",
    "            writer.add_scalar('Loss/Train_Batch', loss.item(), epoch)\n",
    "            \n",
    "        train_loss = running_loss / len(train_loader.dataset)\n",
    "        train_acc = correct_train / total_train\n",
    "        \n",
    "        # Step the scheduler after each epoch if it exists\n",
    "        if scheduler is not None:\n",
    "            scheduler.step()\n",
    "            writer.add_scalar('Learning_Rate', scheduler.get_last_lr()[0], epoch)\n",
    "        \n",
    "        losses.append(train_loss)\n",
    "        accuracies.append(train_acc)\n",
    "\n",
    "        # ----- Validation -----\n",
    "        model.eval()\n",
    "        \n",
    "        print(f\"Epoch [{epoch+1}/{num_epochs}]: Train Loss: {train_loss:.4f}, \"\n",
    "            f\"Train Acc: {train_acc:.4f}\")\n",
    "        \n",
    "        writer.add_scalar('Loss/Train', train_loss, epoch)\n",
    "        writer.add_scalar('Accuracy/Train', train_acc, epoch)\n",
    "        \n",
    "        # Save model every 25 epochs\n",
    "        if (epoch + 1) % 25 == 0:\n",
    "            save_model(run_name, model, epoch, optimizer, train_loss, num_classes=7)\n",
    "            plot_loss_acc(run_name, epoch, losses, accuracies)\n"
   ]
  },
  {
   "cell_type": "code",
   "execution_count": 38,
   "id": "dd4fb90b",
   "metadata": {
    "execution": {
     "iopub.execute_input": "2025-04-29T00:58:07.227090Z",
     "iopub.status.busy": "2025-04-29T00:58:07.226879Z",
     "iopub.status.idle": "2025-04-29T00:58:07.238766Z",
     "shell.execute_reply": "2025-04-29T00:58:07.238021Z",
     "shell.execute_reply.started": "2025-04-29T00:58:07.227068Z"
    },
    "trusted": true
   },
   "outputs": [],
   "source": [
    "def log_hyperparameters(writer, hyperparameters_dict):\n",
    "    writer.add_hparams(\n",
    "        hparam_dict= hyperparameters_dict,\n",
    "        metric_dict={\n",
    "        }\n",
    "    )"
   ]
  },
  {
   "cell_type": "code",
   "execution_count": 39,
   "id": "6add7523",
   "metadata": {
    "execution": {
     "iopub.execute_input": "2025-04-29T00:58:07.239648Z",
     "iopub.status.busy": "2025-04-29T00:58:07.239414Z",
     "iopub.status.idle": "2025-04-29T00:58:07.249052Z",
     "shell.execute_reply": "2025-04-29T00:58:07.248577Z",
     "shell.execute_reply.started": "2025-04-29T00:58:07.239629Z"
    },
    "trusted": true
   },
   "outputs": [],
   "source": [
    "log_directory = 'logs'"
   ]
  },
  {
   "cell_type": "markdown",
   "id": "2d004e82",
   "metadata": {},
   "source": [
    "train_model -> initialize_all -> log_hyperparameters -> training_loop -> save_model"
   ]
  },
  {
   "cell_type": "code",
   "execution_count": null,
   "id": "065ed453",
   "metadata": {
    "execution": {
     "iopub.execute_input": "2025-04-29T00:58:07.249911Z",
     "iopub.status.busy": "2025-04-29T00:58:07.249708Z",
     "iopub.status.idle": "2025-04-29T00:58:07.263007Z",
     "shell.execute_reply": "2025-04-29T00:58:07.262438Z",
     "shell.execute_reply.started": "2025-04-29T00:58:07.249892Z"
    },
    "trusted": true
   },
   "outputs": [],
   "source": [
    "def train_model(class_model,model_name,optimizer, criterion, num_epochs=100,batch_size=32,learning_rate=0.01,betas=(0.9, 0.999),loss_fn='crossentropy', device='cuda',num_classes=7,weight_decay=0.0001,scheduler_type='step'):\n",
    "\n",
    "    model, optimizer, criterion, scheduler, writer, early_stopping, train_loader, val_loader = initialize_all(\n",
    "        run_name=model_name,\n",
    "        model_class=class_model,\n",
    "        num_classes=num_classes,\n",
    "        input_channels=3,\n",
    "        input_size=(224, 224),\n",
    "        dropout=0.5,\n",
    "        hidden_dim=64,\n",
    "        betas=betas,\n",
    "        optimizer=optimizer,\n",
    "        learning_rate=learning_rate,\n",
    "        weight_decay=weight_decay,\n",
    "        loss_fn=loss_fn,\n",
    "        scheduler_type=scheduler_type\n",
    "    )\n",
    "    hyperparameters_dict={\n",
    "        \"BATCH_SIZE\":     batch_size,\n",
    "            \"LEARNING_RATE\":  learning_rate,\n",
    "            \"EPOCHS\":         num_epochs,\n",
    "            \"BETAS\":          str(betas),\n",
    "            \"NUM_CLASSES\":    num_classes,\n",
    "    }\n",
    "    log_hyperparameters(writer, hyperparameters_dict)\n",
    "    \n",
    "    training_loop(run_name=model_name,num_epochs=num_epochs, model=model, train_loader=train_loader, optimizer=optimizer, criterion=criterion, device=device,writer=writer, scheduler=scheduler)\n",
    "    # save_model(model, path=f'../models/pretrained/{model_name}.pth', optimizer=optimizer)\n",
    "    \n",
    "    writer.close()"
   ]
  },
  {
   "cell_type": "code",
   "execution_count": 41,
   "id": "62ea7f99",
   "metadata": {
    "execution": {
     "iopub.execute_input": "2025-04-29T00:58:07.264056Z",
     "iopub.status.busy": "2025-04-29T00:58:07.263739Z",
     "iopub.status.idle": "2025-04-29T00:58:07.276445Z",
     "shell.execute_reply": "2025-04-29T00:58:07.275898Z",
     "shell.execute_reply.started": "2025-04-29T00:58:07.264041Z"
    },
    "trusted": true
   },
   "outputs": [],
   "source": [
    "run_name=run_names[1]"
   ]
  },
  {
   "cell_type": "code",
   "execution_count": 42,
   "id": "9db40228",
   "metadata": {
    "execution": {
     "iopub.execute_input": "2025-04-29T00:58:07.277335Z",
     "iopub.status.busy": "2025-04-29T00:58:07.277031Z",
     "iopub.status.idle": "2025-04-29T00:58:07.288087Z",
     "shell.execute_reply": "2025-04-29T00:58:07.287421Z",
     "shell.execute_reply.started": "2025-04-29T00:58:07.277313Z"
    },
    "trusted": true
   },
   "outputs": [],
   "source": [
    "def parse_run_name(run_name):\n",
    "    architecture=run_name.split('_')[0]\n",
    "    training_method=run_name.split('_')[1]\n",
    "    optimizer=run_name.split('_')[2]\n",
    "    learning_rate=float(run_name.split('_')[3])\n",
    "    learning_scheduler=run_name.split('_')[4]=None if 'None' in run_name.split('_')[4] else run_name.split('_')[4] \n",
    "    batch_size=int(run_name.split('_')[5])\n",
    "    loss_fn=run_name.split('_')[6]\n",
    "    weight_decay=float(run_name.split('_')[7][2:])\n",
    "    return architecture, training_method, optimizer, learning_rate, learning_scheduler, batch_size, loss_fn, weight_decay"
   ]
  },
  {
   "cell_type": "code",
   "execution_count": 43,
   "id": "b36b45e3",
   "metadata": {
    "execution": {
     "iopub.execute_input": "2025-04-29T00:58:07.288930Z",
     "iopub.status.busy": "2025-04-29T00:58:07.288700Z",
     "iopub.status.idle": "2025-04-29T00:58:07.298873Z",
     "shell.execute_reply": "2025-04-29T00:58:07.298162Z",
     "shell.execute_reply.started": "2025-04-29T00:58:07.288910Z"
    },
    "trusted": true
   },
   "outputs": [],
   "source": [
    "architecture, training_method, optimizer, learning_rate, learning_scheduler, batch_size, loss_fn, weight_decay=parse_run_name(run_name)"
   ]
  },
  {
   "cell_type": "code",
   "execution_count": null,
   "id": "d1f71d21",
   "metadata": {
    "execution": {
     "iopub.execute_input": "2025-04-29T00:58:07.300005Z",
     "iopub.status.busy": "2025-04-29T00:58:07.299558Z"
    },
    "trusted": true
   },
   "outputs": [
    {
     "name": "stdout",
     "output_type": "stream",
     "text": [
      "Classes: {'Badminton': 0, 'Cricket': 1, 'Karate': 2, 'Soccer': 3, 'Swimming': 4, 'Tennis': 5, 'Wrestling': 6}\n"
     ]
    },
    {
     "name": "stderr",
     "output_type": "stream",
     "text": [
      "Epoch 1/2:  73%|███████▎  | 189/258 [01:48<00:42,  1.62it/s, loss=1.72]"
     ]
    }
   ],
   "source": [
    "train_model(CustomCNN,run_name,optimizer=optimizer,criterion=loss_fn, num_epochs=EPOCHS,batch_size=batch_size,learning_rate=learning_rate,betas=BETAS,loss_fn=loss_fn, device=device,num_classes=NUM_CLASSES)"
   ]
  },
  {
   "cell_type": "code",
   "execution_count": null,
   "id": "c5019910",
   "metadata": {
    "trusted": true
   },
   "outputs": [],
   "source": [
    "# model = CustomCNN(num_classes=7)\n",
    "# model.to(device)\n",
    "\n",
    "\n",
    "os.listdir(\"/kaggle/working/models/checkpoints\")\n"
   ]
  },
  {
   "cell_type": "code",
   "execution_count": null,
   "id": "c853fab4-a358-4a09-92b2-c3a0979f1684",
   "metadata": {
    "trusted": true
   },
   "outputs": [],
   "source": [
    "import shutil\n",
    "import os\n",
    "\n",
    "# Step 1: Create a ZIP archive of everything inside /kaggle/working/\n",
    "shutil.make_archive('/kaggle/working/working_folder_backup', 'zip', '/kaggle/working')\n",
    "\n",
    "# Step 2: Confirm that the zip file is created\n",
    "if os.path.exists('/kaggle/working/working_folder_backup.zip'):\n",
    "    print(\"✅ Archive created: working_folder_backup.zip\")\n",
    "else:\n",
    "    print(\"❌ Failed to create archive.\")\n",
    "\n",
    "# Step 3: Now, manually download it:\n",
    "# In the right sidebar ➔ Files ➔ Refresh ➔ Click 'working_folder_backup.zip' ➔ Download\n"
   ]
  }
 ],
 "metadata": {
  "kaggle": {
   "accelerator": "nvidiaTeslaT4",
   "dataSources": [
    {
     "datasetId": 1972590,
     "sourceId": 3255301,
     "sourceType": "datasetVersion"
    }
   ],
   "dockerImageVersionId": 31011,
   "isGpuEnabled": true,
   "isInternetEnabled": true,
   "language": "python",
   "sourceType": "notebook"
  },
  "kernelspec": {
   "display_name": "deep",
   "language": "python",
   "name": "python3"
  },
  "language_info": {
   "codemirror_mode": {
    "name": "ipython",
    "version": 3
   },
   "file_extension": ".py",
   "mimetype": "text/x-python",
   "name": "python",
   "nbconvert_exporter": "python",
   "pygments_lexer": "ipython3",
   "version": "3.12.9"
  }
 },
 "nbformat": 4,
 "nbformat_minor": 5
}
